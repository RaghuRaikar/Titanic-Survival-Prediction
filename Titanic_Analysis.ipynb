{
 "cells": [
  {
   "cell_type": "markdown",
   "id": "35776b3e",
   "metadata": {},
   "source": [
    "# Titanic Extra Credit Analysis"
   ]
  },
  {
   "cell_type": "markdown",
   "id": "b9fdefbc",
   "metadata": {},
   "source": [
    "\n",
    "## Introduction\n",
    "This notebook performs a machine learning analysis on the Titanic dataset. We will clean the data, visualize it, and train three different classifiers to evaluate their performance using cross-validation.\n"
   ]
  },
  {
   "cell_type": "code",
   "execution_count": 5,
   "id": "6460484b",
   "metadata": {},
   "outputs": [
    {
     "ename": "ModuleNotFoundError",
     "evalue": "No module named 'matplotlib'",
     "output_type": "error",
     "traceback": [
      "\u001b[0;31m---------------------------------------------------------------------------\u001b[0m",
      "\u001b[0;31mModuleNotFoundError\u001b[0m                       Traceback (most recent call last)",
      "Cell \u001b[0;32mIn[5], line 3\u001b[0m\n\u001b[1;32m      1\u001b[0m \u001b[38;5;28;01mimport\u001b[39;00m\u001b[38;5;250m \u001b[39m\u001b[38;5;21;01mpandas\u001b[39;00m\u001b[38;5;250m \u001b[39m\u001b[38;5;28;01mas\u001b[39;00m\u001b[38;5;250m \u001b[39m\u001b[38;5;21;01mpd\u001b[39;00m\n\u001b[1;32m      2\u001b[0m \u001b[38;5;28;01mimport\u001b[39;00m\u001b[38;5;250m \u001b[39m\u001b[38;5;21;01mnumpy\u001b[39;00m\u001b[38;5;250m \u001b[39m\u001b[38;5;28;01mas\u001b[39;00m\u001b[38;5;250m \u001b[39m\u001b[38;5;21;01mnp\u001b[39;00m\n\u001b[0;32m----> 3\u001b[0m \u001b[38;5;28;01mimport\u001b[39;00m\u001b[38;5;250m \u001b[39m\u001b[38;5;21;01mmatplotlib\u001b[39;00m\u001b[38;5;21;01m.\u001b[39;00m\u001b[38;5;21;01mpyplot\u001b[39;00m\u001b[38;5;250m \u001b[39m\u001b[38;5;28;01mas\u001b[39;00m\u001b[38;5;250m \u001b[39m\u001b[38;5;21;01mplt\u001b[39;00m\n\u001b[1;32m      4\u001b[0m \u001b[38;5;28;01mimport\u001b[39;00m\u001b[38;5;250m \u001b[39m\u001b[38;5;21;01mseaborn\u001b[39;00m\u001b[38;5;250m \u001b[39m\u001b[38;5;28;01mas\u001b[39;00m\u001b[38;5;250m \u001b[39m\u001b[38;5;21;01msns\u001b[39;00m\n\u001b[1;32m      5\u001b[0m \u001b[38;5;28;01mfrom\u001b[39;00m\u001b[38;5;250m \u001b[39m\u001b[38;5;21;01msklearn\u001b[39;00m\u001b[38;5;21;01m.\u001b[39;00m\u001b[38;5;21;01mmodel_selection\u001b[39;00m\u001b[38;5;250m \u001b[39m\u001b[38;5;28;01mimport\u001b[39;00m KFold\n",
      "\u001b[0;31mModuleNotFoundError\u001b[0m: No module named 'matplotlib'"
     ]
    }
   ],
   "source": [
    "\n",
    "import pandas as pd\n",
    "import numpy as np\n",
    "import matplotlib.pyplot as plt\n",
    "import seaborn as sns\n",
    "from sklearn.model_selection import KFold\n",
    "from sklearn.impute import SimpleImputer\n",
    "from sklearn.preprocessing import StandardScaler\n",
    "from sklearn.linear_model import LogisticRegression\n",
    "from sklearn.neighbors import KNeighborsClassifier\n",
    "from sklearn.tree import DecisionTreeClassifier\n",
    "from sklearn.metrics import accuracy_score\n"
   ]
  },
  {
   "cell_type": "markdown",
   "id": "ffe3f87d",
   "metadata": {},
   "source": [
    "## Load the Titanic Dataset"
   ]
  },
  {
   "cell_type": "code",
   "execution_count": null,
   "id": "bfd57fa6",
   "metadata": {},
   "outputs": [],
   "source": [
    "\n",
    "# Load the dataset\n",
    "file_path = \"train_and_test2.csv\"\n",
    "titanic_data = pd.read_csv(file_path)\n",
    "\n",
    "# Display first few rows\n",
    "titanic_data.head()\n"
   ]
  },
  {
   "cell_type": "markdown",
   "id": "d97366f8",
   "metadata": {},
   "source": [
    "## Data Cleaning"
   ]
  },
  {
   "cell_type": "code",
   "execution_count": null,
   "id": "87e3b9ea",
   "metadata": {},
   "outputs": [],
   "source": [
    "\n",
    "def clean_data(frame):\n",
    "    frame = frame.replace(['N/A', 'NULL', '?', 'None', 'n/a'], np.nan)\n",
    "    frame['Age'].fillna(frame['Age'].mean(), inplace=True)\n",
    "    frame['Embarked'].fillna(frame['Embarked'].mode()[0], inplace=True)\n",
    "    frame.drop(columns=['Passengerid'], inplace=True, errors='ignore')\n",
    "    \n",
    "    return frame\n",
    "\n",
    "titanic_data = clean_data(titanic_data)\n",
    "titanic_data.head()\n"
   ]
  },
  {
   "cell_type": "markdown",
   "id": "8d9b409c",
   "metadata": {},
   "source": [
    "## Data Visualization"
   ]
  },
  {
   "cell_type": "code",
   "execution_count": null,
   "id": "61e21f81",
   "metadata": {},
   "outputs": [],
   "source": [
    "\n",
    "plt.figure(figsize=(10, 6))\n",
    "sns.histplot(titanic_data['Age'], bins=20, kde=True)\n",
    "plt.title(\"Age Distribution of Titanic Passengers\")\n",
    "plt.xlabel(\"Age\")\n",
    "plt.ylabel(\"Count\")\n",
    "plt.show()\n"
   ]
  },
  {
   "cell_type": "code",
   "execution_count": null,
   "id": "5fa984b1",
   "metadata": {},
   "outputs": [],
   "source": [
    "\n",
    "plt.figure(figsize=(8, 6))\n",
    "sns.countplot(x='Sex', hue='2urvived', data=titanic_data)\n",
    "plt.title(\"Survival Count by Gender\")\n",
    "plt.xlabel(\"Gender\")\n",
    "plt.ylabel(\"Count\")\n",
    "plt.legend(title=\"Survived\", labels=[\"No\", \"Yes\"])\n",
    "plt.show()\n"
   ]
  },
  {
   "cell_type": "markdown",
   "id": "15e0866c",
   "metadata": {},
   "source": [
    "## Modeling"
   ]
  },
  {
   "cell_type": "code",
   "execution_count": null,
   "id": "3c9ea392",
   "metadata": {},
   "outputs": [],
   "source": [
    "\n",
    "def cross_fold_validation(classifier, frame, folds):\n",
    "    kf = KFold(n_splits=folds, shuffle=True, random_state=42)\n",
    "    X = frame.drop(columns=['2urvived']).copy()\n",
    "    y = frame['2urvived'].copy()\n",
    "    imputer = SimpleImputer(strategy='mean')\n",
    "    X = imputer.fit_transform(X)\n",
    "    scaler = StandardScaler()\n",
    "    X = scaler.fit_transform(X)\n",
    "    accuracy_scores = []\n",
    "    \n",
    "    for train_index, test_index in kf.split(X):\n",
    "        X_train, X_test = X[train_index], X[test_index]\n",
    "        y_train, y_test = y.iloc[train_index], y.iloc[test_index]\n",
    "        classifier.fit(X_train, y_train)\n",
    "        y_pred = classifier.predict(X_test)\n",
    "        accuracy = accuracy_score(y_test, y_pred)\n",
    "        accuracy_scores.append(accuracy)\n",
    "    \n",
    "    return accuracy_scores\n",
    "\n",
    "classifiers = {\n",
    "    \"Logistic Regression\": LogisticRegression(),\n",
    "    \"K-Nearest Neighbor\": KNeighborsClassifier(n_neighbors=5),\n",
    "    \"Decision Tree\": DecisionTreeClassifier(max_depth=5)\n",
    "}\n",
    "\n",
    "model_results = {}\n",
    "for name, clf in classifiers.items():\n",
    "    scores = cross_fold_validation(clf, titanic_data, 5)\n",
    "    model_results[name] = (np.mean(scores), np.std(scores))\n",
    "\n",
    "# Display results\n",
    "pd.DataFrame(model_results, index=[\"Mean Accuracy\", \"Std Dev\"]).T\n"
   ]
  },
  {
   "cell_type": "markdown",
   "id": "c4cb0542",
   "metadata": {},
   "source": [
    "## Conclusion"
   ]
  },
  {
   "cell_type": "markdown",
   "id": "7c0113e3",
   "metadata": {},
   "source": [
    "\n",
    "Based on the analysis, K-Nearest Neighbors performed the best with the highest mean accuracy. The Decision Tree model had the highest standard deviation, indicating that it was more variable across different folds. \n",
    "Future improvements could involve feature engineering, hyperparameter tuning, and testing additional classifiers.\n"
   ]
  }
 ],
 "metadata": {
  "kernelspec": {
   "display_name": "py310",
   "language": "python",
   "name": "python3"
  },
  "language_info": {
   "codemirror_mode": {
    "name": "ipython",
    "version": 3
   },
   "file_extension": ".py",
   "mimetype": "text/x-python",
   "name": "python",
   "nbconvert_exporter": "python",
   "pygments_lexer": "ipython3",
   "version": "3.10.14"
  }
 },
 "nbformat": 4,
 "nbformat_minor": 5
}
